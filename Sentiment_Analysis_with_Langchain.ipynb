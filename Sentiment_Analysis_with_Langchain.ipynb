{
  "nbformat": 4,
  "nbformat_minor": 0,
  "metadata": {
    "colab": {
      "provenance": [],
      "gpuType": "T4",
      "authorship_tag": "ABX9TyOS81XMyXcllgHCfDkZnjSh",
      "include_colab_link": true
    },
    "kernelspec": {
      "name": "python3",
      "display_name": "Python 3"
    },
    "language_info": {
      "name": "python"
    },
    "accelerator": "GPU"
  },
  "cells": [
    {
      "cell_type": "markdown",
      "metadata": {
        "id": "view-in-github",
        "colab_type": "text"
      },
      "source": [
        "<a href=\"https://colab.research.google.com/github/SavvyCode15/Sentiment-analysis-with-langchain/blob/main/Sentiment_Analysis_with_Langchain.ipynb\" target=\"_parent\"><img src=\"https://colab.research.google.com/assets/colab-badge.svg\" alt=\"Open In Colab\"/></a>"
      ]
    },
    {
      "cell_type": "markdown",
      "source": [
        "ASPECT BASED SENTIMENT ANALYSIS"
      ],
      "metadata": {
        "id": "tWSqv3tadsX8"
      }
    },
    {
      "cell_type": "code",
      "execution_count": null,
      "metadata": {
        "id": "mj8zr_8o5A9d"
      },
      "outputs": [],
      "source": [
        "pip -q install langchain  google.generativeai"
      ]
    },
    {
      "cell_type": "code",
      "source": [
        "import os\n",
        "os.environ['GOOGLE_API_KEY']=\"ENTER_API_KEY\""
      ],
      "metadata": {
        "id": "q9VpiT9ALk9w"
      },
      "execution_count": null,
      "outputs": []
    },
    {
      "cell_type": "code",
      "source": [
        "from langchain.llms import GooglePalm\n",
        "llm=GooglePalm()"
      ],
      "metadata": {
        "id": "W9ddYtylOMke"
      },
      "execution_count": null,
      "outputs": []
    },
    {
      "cell_type": "code",
      "source": [
        "from langchain import LLMChain, PromptTemplate\n",
        "\n",
        "template = \"\"\"Question: {question}\n",
        "\n",
        "Answer: Let's think step by step.\"\"\"\n",
        "prompt = PromptTemplate.from_template(template)\n",
        "chain=LLMChain(llm=llm, prompt=prompt)\n",
        "\n",
        "question = \"Who was the president in the year Justin Bieber was born?\"\n",
        "print(chain.run({\"question\": question}))\n",
        "\n",
        "\n"
      ],
      "metadata": {
        "id": "da_0vwPNQHZK"
      },
      "execution_count": null,
      "outputs": []
    },
    {
      "cell_type": "code",
      "source": [
        "from langchain.prompts import PromptTemplate\n",
        "from langchain.chains import LLMChain\n",
        "from langchain.prompts import FewShotPromptTemplate\n",
        "from langchain.chains import SimpleSequentialChain"
      ],
      "metadata": {
        "id": "l57yD_lUceD1"
      },
      "execution_count": null,
      "outputs": []
    },
    {
      "cell_type": "code",
      "source": [
        "# This is an LLMChain for ASpect EXtraction\n",
        "examples=[{\n",
        "    \"review\":''' Improve the communication updates to families. Improve consistency, with housekeeping, it was supposed to be weekly but now it is every two or three weeks.\\\n",
        "    There is no consistency in the staff either due to high turnoverrate. Improve the services in the dining room along with meal options.''',\n",
        "    \"aspects\":'''Relevent aspects are communication on updates, housekeeping consistency, staff turnover, and dining services.'''\n",
        "},\n",
        "{\n",
        "    \"review\":''' On paper they do , but my wife has not been brought to them, I have not had a meeting to set up a plan for her. No one wheels her to partake in acivities.''',\n",
        "    \"aspects\":''' Relevent aspects are staff Attitude, care plan setup, Staff involvement in activities. '''\n",
        "}\n",
        "]"
      ],
      "metadata": {
        "id": "9tRtm176dAjD"
      },
      "execution_count": null,
      "outputs": []
    },
    {
      "cell_type": "code",
      "source": [
        "# configure a formatter that will format the few shot examples into a string. This formatter should be a PromptTemplate.\n",
        "prompt_template='''\n",
        "Review:{review}\n",
        "{aspects}\n",
        "'''\n",
        "example_prompt=PromptTemplate(input_variables=[\"review\", \"aspects\"], template=prompt_template)\n",
        "\n",
        "print(example_prompt.format(**examples[0] ))"
      ],
      "metadata": {
        "id": "C0LmBRjKh8cB"
      },
      "execution_count": null,
      "outputs": []
    },
    {
      "cell_type": "code",
      "source": [
        "final_prompt=FewShotPromptTemplate(\n",
        "    examples=examples,\n",
        "    example_prompt=example_prompt,\n",
        "    suffix=\"Review:{review}/n\",\n",
        "    input_variables=[\"review\"],\n",
        "    prefix=\"We are extracting the aspects from the review given by the residents of nursing homes. Take the review as input and extract the different aspects about the staff, food, memory building activites, management, cost of the nursing home. Then return the aspects as a list.\"\n",
        "\n",
        ")\n",
        "print(final_prompt.format(review=''' The community has popcorn days, church, birthday celebrations, holiday parties, therapy dogs and so much more. mymother iis very happy here, and she is kept active'''))"
      ],
      "metadata": {
        "id": "Fd4PaujpNMhl"
      },
      "execution_count": null,
      "outputs": []
    },
    {
      "cell_type": "code",
      "source": [
        "aspect_extraction_chain=LLMChain(llm=llm, prompt=final_prompt, output_key='aspects')\n"
      ],
      "metadata": {
        "id": "-B_W06_ZUnmq"
      },
      "execution_count": null,
      "outputs": []
    },
    {
      "cell_type": "code",
      "source": [
        "output=aspect_extraction_chain.predict(review=\"The community has popcorn days, church, birthday celebrations, holiday parties, therapy dogs and so much more. mymother iis very happy here, and she is kept active\")"
      ],
      "metadata": {
        "id": "P9pZPLCNU9Z0"
      },
      "execution_count": null,
      "outputs": []
    },
    {
      "cell_type": "code",
      "source": [
        "output"
      ],
      "metadata": {
        "id": "Y37Z-z5tVSbE"
      },
      "execution_count": null,
      "outputs": []
    },
    {
      "cell_type": "markdown",
      "source": [
        "Sentiment Chain"
      ],
      "metadata": {
        "id": "YMA_wUX4bm6u"
      }
    },
    {
      "cell_type": "code",
      "source": [
        "#configure a formatter that will format the few shot examples into a string. this formatter should be a Prompt Template\n",
        "prompt_template='''\n",
        "Given below review and extracted aspects, Tell me about the sentiment of these aspects. e.g. 'Positive', Negative', 'Neutral' in a format like (aspect, sentiment).\n",
        "Review:{review}\n",
        "Aspects:{aspects}\n",
        "[(Aspect1, Sentiment of Aspect1), (Aspect2, Sentiment of Aspect2),....]\n",
        "'''\n",
        "example_prompt2=PromptTemplate(input_variables=[\"review\", \"aspects\"], template=prompt_template)\n",
        "\n",
        "print(example_prompt2)"
      ],
      "metadata": {
        "id": "_UzSrNJoblih"
      },
      "execution_count": null,
      "outputs": []
    },
    {
      "cell_type": "code",
      "source": [
        "aspect_sentiment_chain=LLMChain(llm=llm, prompt=example_prompt2, output_key=\"Aspects_with_sentiment\")"
      ],
      "metadata": {
        "id": "ncySbQGpdQkk"
      },
      "execution_count": null,
      "outputs": []
    },
    {
      "cell_type": "markdown",
      "source": [
        "Final Sequential Chain\n",
        "\n"
      ],
      "metadata": {
        "id": "DvqJjEVNfgNS"
      }
    },
    {
      "cell_type": "code",
      "source": [
        "from langchain.chains.sequential import SequentialChain\n",
        "overall_chain= SequentialChain(\n",
        "    chains=[aspect_extraction_chain, aspect_sentiment_chain],\n",
        "    input_variables=[\"review\"],\n",
        "    output_variables=[\"review\", \"aspects\", \"Aspects_with_sentiment\"],\n",
        "    verbose=True\n",
        ")"
      ],
      "metadata": {
        "id": "XerTvsUhfjnk"
      },
      "execution_count": null,
      "outputs": []
    },
    {
      "cell_type": "code",
      "source": [
        "overall_chain({\"review\":\"The staff here is really nice and cooperative. But I don't like their dinner menu\"})"
      ],
      "metadata": {
        "id": "MX-6jT4xgTeI"
      },
      "execution_count": null,
      "outputs": []
    }
  ]
}